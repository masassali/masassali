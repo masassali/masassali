{
  "nbformat": 4,
  "nbformat_minor": 0,
  "metadata": {
    "colab": {
      "name": "BDSF2 - 10_Let's git out! - 02032022.ipynb",
      "provenance": [],
      "authorship_tag": "ABX9TyPdqI6BEJ4HYXza4PQAnoyT",
      "include_colab_link": true
    },
    "kernelspec": {
      "name": "python3",
      "display_name": "Python 3"
    },
    "language_info": {
      "name": "python"
    }
  },
  "cells": [
    {
      "cell_type": "markdown",
      "metadata": {
        "id": "view-in-github",
        "colab_type": "text"
      },
      "source": [
        "<a href=\"https://colab.research.google.com/github/masassali/masassali/blob/main/BDSF2_10_Let's_git_out!_02032022.ipynb\" target=\"_parent\"><img src=\"https://colab.research.google.com/assets/colab-badge.svg\" alt=\"Open In Colab\"/></a>"
      ]
    },
    {
      "cell_type": "code",
      "source": [
        "!git clone https://github.com/smirs/BDSF.git"
      ],
      "metadata": {
        "colab": {
          "base_uri": "https://localhost:8080/"
        },
        "id": "s-zY3VIm_2O0",
        "outputId": "c225b741-3d08-49de-aa16-049bcd8c08fd"
      },
      "execution_count": 1,
      "outputs": [
        {
          "output_type": "stream",
          "name": "stdout",
          "text": [
            "Cloning into 'BDSF'...\n",
            "remote: Enumerating objects: 58, done.\u001b[K\n",
            "remote: Counting objects: 100% (58/58), done.\u001b[K\n",
            "remote: Compressing objects: 100% (23/23), done.\u001b[K\n",
            "remote: Total 58 (delta 13), reused 56 (delta 12), pack-reused 0\u001b[K\n",
            "Unpacking objects: 100% (58/58), done.\n"
          ]
        }
      ]
    },
    {
      "cell_type": "markdown",
      "source": [
        "Cloned BDSF and linked this CoLab to GitHub under:\n",
        "https://github.com/masassali/masassali/blob/main/BDSF2_02032022.ipynb\n",
        "\n",
        "\n"
      ],
      "metadata": {
        "id": "SoRuJFxaA6bm"
      }
    }
  ]
}